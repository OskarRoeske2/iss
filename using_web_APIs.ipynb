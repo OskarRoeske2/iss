{
 "cells": [
  {
   "cell_type": "markdown",
   "metadata": {},
   "source": [
    "# Homework: Using Web APIs"
   ]
  },
  {
   "cell_type": "code",
   "execution_count": 41,
   "metadata": {},
   "outputs": [],
   "source": [
    "import requests\n",
    "import json\n",
    "from pprint import pprint"
   ]
  },
  {
   "cell_type": "code",
   "execution_count": 3,
   "metadata": {},
   "outputs": [],
   "source": [
    "response = requests.get(\"https://api.randomuser.me/\")"
   ]
  },
  {
   "cell_type": "code",
   "execution_count": 4,
   "metadata": {},
   "outputs": [
    {
     "name": "stdout",
     "output_type": "stream",
     "text": [
      "200\n"
     ]
    }
   ],
   "source": [
    "print(response.status_code)"
   ]
  },
  {
   "cell_type": "code",
   "execution_count": 5,
   "metadata": {},
   "outputs": [],
   "source": [
    "parameters ={\n",
    "    \"results\":10,\n",
    "    \"gender\":\"male\"\n",
    "}"
   ]
  },
  {
   "cell_type": "code",
   "execution_count": 6,
   "metadata": {},
   "outputs": [],
   "source": [
    "response = requests.get(\"https://api.randomuser.me/\",params=parameters)"
   ]
  },
  {
   "cell_type": "code",
   "execution_count": 13,
   "metadata": {},
   "outputs": [],
   "source": [
    "data = json.loads(response.text)"
   ]
  },
  {
   "cell_type": "code",
   "execution_count": 14,
   "metadata": {},
   "outputs": [
    {
     "data": {
      "text/plain": [
       "dict"
      ]
     },
     "execution_count": 14,
     "metadata": {},
     "output_type": "execute_result"
    }
   ],
   "source": [
    "type(data)"
   ]
  },
  {
   "cell_type": "code",
   "execution_count": 17,
   "metadata": {},
   "outputs": [
    {
     "data": {
      "text/plain": [
       "{'results': [{'gender': 'male',\n",
       "   'name': {'title': 'Mr', 'first': 'رهام', 'last': 'نكو نظر'},\n",
       "   'location': {'street': {'number': 3315, 'name': 'حجاب'},\n",
       "    'city': 'تبریز',\n",
       "    'state': 'چهارمحال و بختیاری',\n",
       "    'country': 'Iran',\n",
       "    'postcode': 30503,\n",
       "    'coordinates': {'latitude': '16.7977', 'longitude': '-35.1329'},\n",
       "    'timezone': {'offset': '-9:00', 'description': 'Alaska'}},\n",
       "   'email': 'rhm.nkwnzr@example.com',\n",
       "   'login': {'uuid': 'b2534c36-d9d0-413a-a7c8-2186dc119faa',\n",
       "    'username': 'heavyrabbit600',\n",
       "    'password': 'nancy',\n",
       "    'salt': 'zYL2cenN',\n",
       "    'md5': 'ad968e7361fb26c3f1e3a49873259921',\n",
       "    'sha1': 'bb4dea37c35fe54ff702225bbca3083dd9aa62f0',\n",
       "    'sha256': '0738b933a8dc2a1e2ca2342bc020407e18b34c243b5fd6608321787d678d4392'},\n",
       "   'dob': {'date': '1953-01-31T13:18:12.349Z', 'age': 71},\n",
       "   'registered': {'date': '2004-05-23T16:24:03.169Z', 'age': 19},\n",
       "   'phone': '048-71069666',\n",
       "   'cell': '0938-938-5755',\n",
       "   'id': {'name': '', 'value': None},\n",
       "   'picture': {'large': 'https://randomuser.me/api/portraits/men/53.jpg',\n",
       "    'medium': 'https://randomuser.me/api/portraits/med/men/53.jpg',\n",
       "    'thumbnail': 'https://randomuser.me/api/portraits/thumb/men/53.jpg'},\n",
       "   'nat': 'IR'},\n",
       "  {'gender': 'male',\n",
       "   'name': {'title': 'Mr', 'first': 'Amin', 'last': 'Gravdahl'},\n",
       "   'location': {'street': {'number': 1548, 'name': 'Herbernveien'},\n",
       "    'city': 'Båtsfjord',\n",
       "    'state': 'Aust-Agder',\n",
       "    'country': 'Norway',\n",
       "    'postcode': '2673',\n",
       "    'coordinates': {'latitude': '21.1953', 'longitude': '-53.7665'},\n",
       "    'timezone': {'offset': '-10:00', 'description': 'Hawaii'}},\n",
       "   'email': 'amin.gravdahl@example.com',\n",
       "   'login': {'uuid': 'ef5d8b99-b041-4251-9951-c6a025ff09f5',\n",
       "    'username': 'yellowbear613',\n",
       "    'password': 'zhuai',\n",
       "    'salt': 'wfVAObjv',\n",
       "    'md5': '6b2597c4c994be404b6380100f8edc57',\n",
       "    'sha1': '86f824d2aff358e54da6b112753f67e849d6e689',\n",
       "    'sha256': 'c24a19dbead2fbcec672c3c49aa2b75a2ad1227c60fc24e3238ad205148357ed'},\n",
       "   'dob': {'date': '2001-05-20T21:56:39.494Z', 'age': 22},\n",
       "   'registered': {'date': '2009-09-12T10:48:11.769Z', 'age': 14},\n",
       "   'phone': '82310393',\n",
       "   'cell': '93335524',\n",
       "   'id': {'name': 'FN', 'value': '20050195156'},\n",
       "   'picture': {'large': 'https://randomuser.me/api/portraits/men/33.jpg',\n",
       "    'medium': 'https://randomuser.me/api/portraits/med/men/33.jpg',\n",
       "    'thumbnail': 'https://randomuser.me/api/portraits/thumb/men/33.jpg'},\n",
       "   'nat': 'NO'},\n",
       "  {'gender': 'male',\n",
       "   'name': {'title': 'Mr', 'first': 'Kenan', 'last': 'Yılmazer'},\n",
       "   'location': {'street': {'number': 1728, 'name': 'Mevlana Cd'},\n",
       "    'city': 'Çanakkale',\n",
       "    'state': 'Balıkesir',\n",
       "    'country': 'Turkey',\n",
       "    'postcode': 50114,\n",
       "    'coordinates': {'latitude': '-30.0654', 'longitude': '139.8163'},\n",
       "    'timezone': {'offset': '+4:00',\n",
       "     'description': 'Abu Dhabi, Muscat, Baku, Tbilisi'}},\n",
       "   'email': 'kenan.yilmazer@example.com',\n",
       "   'login': {'uuid': '44215f4c-4658-4937-94e8-e92e3175c164',\n",
       "    'username': 'organicmouse271',\n",
       "    'password': 'joey',\n",
       "    'salt': 'tWgArCkM',\n",
       "    'md5': '6e5f572123d78b7ac16ee120a16ee7b0',\n",
       "    'sha1': 'c145433105f66290477f65c9441a24ddc3554d47',\n",
       "    'sha256': 'b40a6f35c24bf1c54b20aca7cdbf57abc6674c10b4d499c53bd683e3a89c0347'},\n",
       "   'dob': {'date': '1983-06-07T05:44:48.955Z', 'age': 40},\n",
       "   'registered': {'date': '2021-01-14T16:37:02.935Z', 'age': 3},\n",
       "   'phone': '(007)-500-3166',\n",
       "   'cell': '(330)-130-3038',\n",
       "   'id': {'name': '', 'value': None},\n",
       "   'picture': {'large': 'https://randomuser.me/api/portraits/men/9.jpg',\n",
       "    'medium': 'https://randomuser.me/api/portraits/med/men/9.jpg',\n",
       "    'thumbnail': 'https://randomuser.me/api/portraits/thumb/men/9.jpg'},\n",
       "   'nat': 'TR'},\n",
       "  {'gender': 'male',\n",
       "   'name': {'title': 'Mr', 'first': 'Levi', 'last': 'Singh'},\n",
       "   'location': {'street': {'number': 5665, 'name': 'Barbadoes Street'},\n",
       "    'city': 'Wellington',\n",
       "    'state': 'Canterbury',\n",
       "    'country': 'New Zealand',\n",
       "    'postcode': 80321,\n",
       "    'coordinates': {'latitude': '-8.2639', 'longitude': '-121.2292'},\n",
       "    'timezone': {'offset': '-12:00', 'description': 'Eniwetok, Kwajalein'}},\n",
       "   'email': 'levi.singh@example.com',\n",
       "   'login': {'uuid': 'a79a3ae1-01b8-4005-aa95-51240505dc9a',\n",
       "    'username': 'yellowsnake624',\n",
       "    'password': 'kent',\n",
       "    'salt': 'D8bvI62N',\n",
       "    'md5': 'de4b8465ab897e2b329f74d971dca5a2',\n",
       "    'sha1': 'edc46f0208dfc90ceb2f538d73ac21f09676bfde',\n",
       "    'sha256': 'cf16c628213a129b3778bddf68e66288db36597402df4cedb8c4a274aa979454'},\n",
       "   'dob': {'date': '1969-10-13T03:05:46.384Z', 'age': 54},\n",
       "   'registered': {'date': '2014-04-06T20:04:56.758Z', 'age': 10},\n",
       "   'phone': '(248)-901-8783',\n",
       "   'cell': '(297)-960-1972',\n",
       "   'id': {'name': '', 'value': None},\n",
       "   'picture': {'large': 'https://randomuser.me/api/portraits/men/39.jpg',\n",
       "    'medium': 'https://randomuser.me/api/portraits/med/men/39.jpg',\n",
       "    'thumbnail': 'https://randomuser.me/api/portraits/thumb/men/39.jpg'},\n",
       "   'nat': 'NZ'},\n",
       "  {'gender': 'male',\n",
       "   'name': {'title': 'Mr', 'first': 'Erwan', 'last': 'Gautier'},\n",
       "   'location': {'street': {'number': 3615, 'name': 'Rue Bataille'},\n",
       "    'city': 'Grenoble',\n",
       "    'state': 'Val-de-Marne',\n",
       "    'country': 'France',\n",
       "    'postcode': 64197,\n",
       "    'coordinates': {'latitude': '-84.5160', 'longitude': '23.9531'},\n",
       "    'timezone': {'offset': '-5:00',\n",
       "     'description': 'Eastern Time (US & Canada), Bogota, Lima'}},\n",
       "   'email': 'erwan.gautier@example.com',\n",
       "   'login': {'uuid': '0e2c7f05-8eda-48fd-9796-37de02dbd53e',\n",
       "    'username': 'crazypanda779',\n",
       "    'password': 'fruit',\n",
       "    'salt': 'VD6hdip5',\n",
       "    'md5': 'ef37a36e21e2e352143cbff8e9606247',\n",
       "    'sha1': '1d68a3b874373a1de0f06918ed716be64bfe8377',\n",
       "    'sha256': 'a9259a55b419dadd67d0ab39e050dc13c57687ea21a20943a7b1b58572d24798'},\n",
       "   'dob': {'date': '1960-06-14T09:12:25.925Z', 'age': 63},\n",
       "   'registered': {'date': '2015-10-16T17:40:15.124Z', 'age': 8},\n",
       "   'phone': '03-79-23-84-41',\n",
       "   'cell': '06-04-81-81-94',\n",
       "   'id': {'name': 'INSEE', 'value': '1600592604414 31'},\n",
       "   'picture': {'large': 'https://randomuser.me/api/portraits/men/56.jpg',\n",
       "    'medium': 'https://randomuser.me/api/portraits/med/men/56.jpg',\n",
       "    'thumbnail': 'https://randomuser.me/api/portraits/thumb/men/56.jpg'},\n",
       "   'nat': 'FR'},\n",
       "  {'gender': 'male',\n",
       "   'name': {'title': 'Mr', 'first': 'Vedat', 'last': 'Ayaydın'},\n",
       "   'location': {'street': {'number': 2649, 'name': 'Filistin Cd'},\n",
       "    'city': 'Zonguldak',\n",
       "    'state': 'Bartın',\n",
       "    'country': 'Turkey',\n",
       "    'postcode': 61861,\n",
       "    'coordinates': {'latitude': '36.5798', 'longitude': '176.3585'},\n",
       "    'timezone': {'offset': '-12:00', 'description': 'Eniwetok, Kwajalein'}},\n",
       "   'email': 'vedat.ayaydin@example.com',\n",
       "   'login': {'uuid': 'a02fb464-5356-45e9-87e2-024e54bc4a97',\n",
       "    'username': 'purpleleopard583',\n",
       "    'password': 'bacardi',\n",
       "    'salt': '3JtcHaUb',\n",
       "    'md5': 'a413226088e0f2d0e4defc13e94f38fe',\n",
       "    'sha1': '02af377f21155421a430be69b9aa1a54efc36781',\n",
       "    'sha256': '36ef998e286a559e388818d282bd717b0f0511f13644d603ec9812eef931cea8'},\n",
       "   'dob': {'date': '1949-11-09T03:19:52.467Z', 'age': 74},\n",
       "   'registered': {'date': '2015-03-03T16:50:37.594Z', 'age': 9},\n",
       "   'phone': '(954)-134-5095',\n",
       "   'cell': '(211)-085-3268',\n",
       "   'id': {'name': '', 'value': None},\n",
       "   'picture': {'large': 'https://randomuser.me/api/portraits/men/61.jpg',\n",
       "    'medium': 'https://randomuser.me/api/portraits/med/men/61.jpg',\n",
       "    'thumbnail': 'https://randomuser.me/api/portraits/thumb/men/61.jpg'},\n",
       "   'nat': 'TR'},\n",
       "  {'gender': 'male',\n",
       "   'name': {'title': 'Mr', 'first': 'John', 'last': 'Anderson'},\n",
       "   'location': {'street': {'number': 3400, 'name': 'South Street'},\n",
       "    'city': 'Carlisle',\n",
       "    'state': 'South Yorkshire',\n",
       "    'country': 'United Kingdom',\n",
       "    'postcode': 'AU7I 3YA',\n",
       "    'coordinates': {'latitude': '41.8216', 'longitude': '177.1781'},\n",
       "    'timezone': {'offset': '+4:00',\n",
       "     'description': 'Abu Dhabi, Muscat, Baku, Tbilisi'}},\n",
       "   'email': 'john.anderson@example.com',\n",
       "   'login': {'uuid': '35d67207-d1d1-4f6f-ba16-727ef2049de9',\n",
       "    'username': 'ticklishostrich735',\n",
       "    'password': 'blackjac',\n",
       "    'salt': 'BS17fO5R',\n",
       "    'md5': '2298c2cd3c064f53406c8b81b2e53b73',\n",
       "    'sha1': '3aa6ba7626ec1ee01d34641d3df7694c7fa4aad7',\n",
       "    'sha256': 'efe5a534a577cc170bef75e21e87f4562b55b6a056de40355544ee52a347a757'},\n",
       "   'dob': {'date': '1971-06-11T14:40:54.464Z', 'age': 52},\n",
       "   'registered': {'date': '2021-06-29T13:31:50.308Z', 'age': 2},\n",
       "   'phone': '017684 50965',\n",
       "   'cell': '07609 526077',\n",
       "   'id': {'name': 'NINO', 'value': 'YR 24 54 57 F'},\n",
       "   'picture': {'large': 'https://randomuser.me/api/portraits/men/14.jpg',\n",
       "    'medium': 'https://randomuser.me/api/portraits/med/men/14.jpg',\n",
       "    'thumbnail': 'https://randomuser.me/api/portraits/thumb/men/14.jpg'},\n",
       "   'nat': 'GB'},\n",
       "  {'gender': 'male',\n",
       "   'name': {'title': 'Mr', 'first': 'Alfredo', 'last': 'Dunn'},\n",
       "   'location': {'street': {'number': 8349, 'name': 'Brick Kiln Road'},\n",
       "    'city': 'Peterborough',\n",
       "    'state': 'Herefordshire',\n",
       "    'country': 'United Kingdom',\n",
       "    'postcode': 'R9 6SG',\n",
       "    'coordinates': {'latitude': '68.9959', 'longitude': '23.7619'},\n",
       "    'timezone': {'offset': '+4:30', 'description': 'Kabul'}},\n",
       "   'email': 'alfredo.dunn@example.com',\n",
       "   'login': {'uuid': '5080b019-881a-49f9-a147-81e94210d853',\n",
       "    'username': 'happypanda372',\n",
       "    'password': 'passmast',\n",
       "    'salt': 'omg3OZRA',\n",
       "    'md5': 'b564c845e74f2dadcf4863303382c8d9',\n",
       "    'sha1': 'e2410a2a8164695c30d83df6231bcf26d8f7647a',\n",
       "    'sha256': '0d170ad3349b33f31f41ffda83c910dd42290278413b4999fc7114862658569b'},\n",
       "   'dob': {'date': '1971-12-27T01:09:16.557Z', 'age': 52},\n",
       "   'registered': {'date': '2002-09-11T15:34:14.150Z', 'age': 21},\n",
       "   'phone': '016977 58369',\n",
       "   'cell': '07460 953370',\n",
       "   'id': {'name': 'NINO', 'value': 'WA 17 88 83 W'},\n",
       "   'picture': {'large': 'https://randomuser.me/api/portraits/men/76.jpg',\n",
       "    'medium': 'https://randomuser.me/api/portraits/med/men/76.jpg',\n",
       "    'thumbnail': 'https://randomuser.me/api/portraits/thumb/men/76.jpg'},\n",
       "   'nat': 'GB'},\n",
       "  {'gender': 'male',\n",
       "   'name': {'title': 'Mr', 'first': 'Mikkel', 'last': 'Johansen'},\n",
       "   'location': {'street': {'number': 8411, 'name': 'Rødlundvej'},\n",
       "    'city': 'Roskilde',\n",
       "    'state': 'Hovedstaden',\n",
       "    'country': 'Denmark',\n",
       "    'postcode': 79647,\n",
       "    'coordinates': {'latitude': '24.2683', 'longitude': '123.4706'},\n",
       "    'timezone': {'offset': '+11:00',\n",
       "     'description': 'Magadan, Solomon Islands, New Caledonia'}},\n",
       "   'email': 'mikkel.johansen@example.com',\n",
       "   'login': {'uuid': '780a5b3c-e7bd-4e1a-ab2d-ab7f20d69c11',\n",
       "    'username': 'brownbutterfly538',\n",
       "    'password': 'taichi',\n",
       "    'salt': 'n2SzWbv6',\n",
       "    'md5': 'e7e444e64b7b831c1edb16ef1f72b925',\n",
       "    'sha1': '01eae8eb9903ad8067d5774cf005b8b31472b7aa',\n",
       "    'sha256': 'c99d1866aea2208ed592009164843861f4960fb8ddb28d09160a18622a6fd077'},\n",
       "   'dob': {'date': '1982-08-27T21:50:11.782Z', 'age': 41},\n",
       "   'registered': {'date': '2020-05-21T06:12:28.393Z', 'age': 3},\n",
       "   'phone': '51015153',\n",
       "   'cell': '42494675',\n",
       "   'id': {'name': 'CPR', 'value': '270882-2984'},\n",
       "   'picture': {'large': 'https://randomuser.me/api/portraits/men/17.jpg',\n",
       "    'medium': 'https://randomuser.me/api/portraits/med/men/17.jpg',\n",
       "    'thumbnail': 'https://randomuser.me/api/portraits/thumb/men/17.jpg'},\n",
       "   'nat': 'DK'},\n",
       "  {'gender': 'male',\n",
       "   'name': {'title': 'Mr', 'first': 'Cameron', 'last': 'James'},\n",
       "   'location': {'street': {'number': 8643, 'name': 'Galway Road'},\n",
       "    'city': 'Blessington',\n",
       "    'state': 'Longford',\n",
       "    'country': 'Ireland',\n",
       "    'postcode': 29075,\n",
       "    'coordinates': {'latitude': '-61.0671', 'longitude': '-28.7488'},\n",
       "    'timezone': {'offset': '+4:00',\n",
       "     'description': 'Abu Dhabi, Muscat, Baku, Tbilisi'}},\n",
       "   'email': 'cameron.james@example.com',\n",
       "   'login': {'uuid': '83def11d-b5bd-4ff4-be94-ac81835224b2',\n",
       "    'username': 'goldenfrog987',\n",
       "    'password': 'wassup',\n",
       "    'salt': 'NacNT0DL',\n",
       "    'md5': 'a69ab0ea751a6fc9ba2ec68d367d4400',\n",
       "    'sha1': 'df9df64d5b12d9b39197a6d616b7ec2bfa9313dc',\n",
       "    'sha256': 'c30d0f4b4b14d0fdb403f6f82b2b6cb4cc09f5fc3955495661fe52429d583268'},\n",
       "   'dob': {'date': '1969-06-14T09:16:56.204Z', 'age': 54},\n",
       "   'registered': {'date': '2012-07-22T05:52:44.775Z', 'age': 11},\n",
       "   'phone': '061-762-8291',\n",
       "   'cell': '081-473-1961',\n",
       "   'id': {'name': 'PPS', 'value': '4291510T'},\n",
       "   'picture': {'large': 'https://randomuser.me/api/portraits/men/98.jpg',\n",
       "    'medium': 'https://randomuser.me/api/portraits/med/men/98.jpg',\n",
       "    'thumbnail': 'https://randomuser.me/api/portraits/thumb/men/98.jpg'},\n",
       "   'nat': 'IE'}],\n",
       " 'info': {'seed': '656bed85256b6ce5',\n",
       "  'results': 10,\n",
       "  'page': 1,\n",
       "  'version': '1.4'}}"
      ]
     },
     "execution_count": 17,
     "metadata": {},
     "output_type": "execute_result"
    }
   ],
   "source": [
    "data"
   ]
  },
  {
   "cell_type": "code",
   "execution_count": 27,
   "metadata": {},
   "outputs": [
    {
     "name": "stdout",
     "output_type": "stream",
     "text": [
      "{'gender': 'male', 'name': {'title': 'Mr', 'first': 'رهام', 'last': 'نكو نظر'}, 'location': {'street': {'number': 3315, 'name': 'حجاب'}, 'city': 'تبریز', 'state': 'چهارمحال و بختیاری', 'country': 'Iran', 'postcode': 30503, 'coordinates': {'latitude': '16.7977', 'longitude': '-35.1329'}, 'timezone': {'offset': '-9:00', 'description': 'Alaska'}}, 'email': 'rhm.nkwnzr@example.com', 'login': {'uuid': 'b2534c36-d9d0-413a-a7c8-2186dc119faa', 'username': 'heavyrabbit600', 'password': 'nancy', 'salt': 'zYL2cenN', 'md5': 'ad968e7361fb26c3f1e3a49873259921', 'sha1': 'bb4dea37c35fe54ff702225bbca3083dd9aa62f0', 'sha256': '0738b933a8dc2a1e2ca2342bc020407e18b34c243b5fd6608321787d678d4392'}, 'dob': {'date': '1953-01-31T13:18:12.349Z', 'age': 71}, 'registered': {'date': '2004-05-23T16:24:03.169Z', 'age': 19}, 'phone': '048-71069666', 'cell': '0938-938-5755', 'id': {'name': '', 'value': None}, 'picture': {'large': 'https://randomuser.me/api/portraits/men/53.jpg', 'medium': 'https://randomuser.me/api/portraits/med/men/53.jpg', 'thumbnail': 'https://randomuser.me/api/portraits/thumb/men/53.jpg'}, 'nat': 'IR'}\n"
     ]
    }
   ],
   "source": [
    "print(data[\"results\"][0])"
   ]
  },
  {
   "cell_type": "markdown",
   "metadata": {},
   "source": [
    "# Print all first names"
   ]
  },
  {
   "cell_type": "code",
   "execution_count": 34,
   "metadata": {},
   "outputs": [
    {
     "name": "stdout",
     "output_type": "stream",
     "text": [
      "رهام\n",
      "Amin\n",
      "Kenan\n",
      "Levi\n",
      "Erwan\n",
      "Vedat\n",
      "John\n",
      "Alfredo\n",
      "Mikkel\n",
      "Cameron\n"
     ]
    }
   ],
   "source": [
    "for name in data[\"results\"]:\n",
    "    print(name[\"name\"][\"first\"])"
   ]
  },
  {
   "cell_type": "markdown",
   "metadata": {},
   "source": [
    "# Astronauts in Space"
   ]
  },
  {
   "cell_type": "code",
   "execution_count": 35,
   "metadata": {},
   "outputs": [],
   "source": [
    "response = requests.get(\"http://api.open-notify.org/astros.json\")\n",
    "astronaut_data = json.loads(response.text)"
   ]
  },
  {
   "cell_type": "code",
   "execution_count": 38,
   "metadata": {},
   "outputs": [
    {
     "data": {
      "text/plain": [
       "[{'name': 'Jasmin Moghbeli', 'craft': 'ISS'},\n",
       " {'name': 'Andreas Mogensen', 'craft': 'ISS'},\n",
       " {'name': 'Satoshi Furukawa', 'craft': 'ISS'},\n",
       " {'name': 'Konstantin Borisov', 'craft': 'ISS'},\n",
       " {'name': 'Oleg Kononenko', 'craft': 'ISS'},\n",
       " {'name': 'Nikolai Chub', 'craft': 'ISS'},\n",
       " {'name': \"Loral O'Hara\", 'craft': 'ISS'}]"
      ]
     },
     "execution_count": 38,
     "metadata": {},
     "output_type": "execute_result"
    }
   ],
   "source": [
    "# Show all astronauts\n",
    "astronaut_data[\"people\"]"
   ]
  },
  {
   "cell_type": "code",
   "execution_count": 39,
   "metadata": {},
   "outputs": [
    {
     "data": {
      "text/plain": [
       "7"
      ]
     },
     "execution_count": 39,
     "metadata": {},
     "output_type": "execute_result"
    }
   ],
   "source": [
    "# Count amount\n",
    "len(astronaut_data[\"people\"])"
   ]
  },
  {
   "cell_type": "code",
   "execution_count": 42,
   "metadata": {},
   "outputs": [
    {
     "name": "stdout",
     "output_type": "stream",
     "text": [
      "'Jasmin Moghbeli'\n",
      "'Andreas Mogensen'\n",
      "'Satoshi Furukawa'\n",
      "'Konstantin Borisov'\n",
      "'Oleg Kononenko'\n",
      "'Nikolai Chub'\n",
      "\"Loral O'Hara\"\n"
     ]
    }
   ],
   "source": [
    "for astronaut in astronaut_data[\"people\"]:\n",
    "    pprint(astronaut[\"name\"])"
   ]
  }
 ],
 "metadata": {
  "interpreter": {
   "hash": "aee8b7b246df8f9039afb4144a1f6fd8d2ca17a180786b69acc140d282b71a49"
  },
  "kernelspec": {
   "display_name": "Python 3.11.6 64-bit",
   "language": "python",
   "name": "python3"
  },
  "language_info": {
   "codemirror_mode": {
    "name": "ipython",
    "version": 3
   },
   "file_extension": ".py",
   "mimetype": "text/x-python",
   "name": "python",
   "nbconvert_exporter": "python",
   "pygments_lexer": "ipython3",
   "version": "3.11.6"
  },
  "orig_nbformat": 4
 },
 "nbformat": 4,
 "nbformat_minor": 2
}
